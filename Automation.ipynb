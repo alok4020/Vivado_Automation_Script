{
 "cells": [
  {
   "cell_type": "code",
   "execution_count": 295,
   "id": "9282680b-110e-4ae6-b41d-8994de34a474",
   "metadata": {},
   "outputs": [],
   "source": [
    "import os\n",
    "import numpy as np\n",
    "import pandas as pd\n",
    "import matplotlib.pyplot as plt\n",
    "import datetime"
   ]
  },
  {
   "cell_type": "markdown",
   "id": "a1200176-b5a9-4a30-9201-8c46b48886d7",
   "metadata": {},
   "source": [
    "## Run Vivado"
   ]
  },
  {
   "cell_type": "code",
   "execution_count": 286,
   "id": "ca7ae067-01b5-4f14-9ebe-c1b0f195a411",
   "metadata": {},
   "outputs": [],
   "source": [
    "modules = os.listdir(\"Modules\")"
   ]
  },
  {
   "cell_type": "code",
   "execution_count": 287,
   "id": "d2b1752e-3c7f-4390-bfed-068142d10975",
   "metadata": {},
   "outputs": [
    {
     "data": {
      "text/plain": [
       "['.ipynb_checkpoints',\n",
       " 'top_CLA8.v',\n",
       " 'top_CLA16.v',\n",
       " 'top_CLA64.v',\n",
       " 'top_CLA32.v',\n",
       " 'PGGen.v']"
      ]
     },
     "execution_count": 287,
     "metadata": {},
     "output_type": "execute_result"
    }
   ],
   "source": [
    "modules"
   ]
  },
  {
   "cell_type": "code",
   "execution_count": 3,
   "id": "743f380d-fc06-4b61-b659-4f87d590ff83",
   "metadata": {},
   "outputs": [],
   "source": [
    "top_modules = [mod for mod in modules if mod[:3]=='top']"
   ]
  },
  {
   "cell_type": "code",
   "execution_count": 4,
   "id": "57d61444-6660-48a3-a533-8529afa2549d",
   "metadata": {},
   "outputs": [
    {
     "data": {
      "text/plain": [
       "['top_CLA8.v', 'top_CLA16.v', 'top_CLA64.v', 'top_CLA32.v']"
      ]
     },
     "execution_count": 4,
     "metadata": {},
     "output_type": "execute_result"
    }
   ],
   "source": [
    "top_modules"
   ]
  },
  {
   "cell_type": "code",
   "execution_count": 5,
   "id": "e8478e12-536c-4197-8004-746b42e09054",
   "metadata": {},
   "outputs": [
    {
     "data": {
      "text/plain": [
       "0"
      ]
     },
     "execution_count": 5,
     "metadata": {},
     "output_type": "execute_result"
    }
   ],
   "source": [
    "os.system(\"vivado -mode batch -source Script/tcl_add.tcl\")"
   ]
  },
  {
   "cell_type": "code",
   "execution_count": 6,
   "id": "5b36ade3-216c-4178-9352-3d8997d45140",
   "metadata": {},
   "outputs": [
    {
     "name": "stdout",
     "output_type": "stream",
     "text": [
      "top_CLA8\n",
      "top_CLA16\n",
      "top_CLA64\n",
      "top_CLA32\n"
     ]
    }
   ],
   "source": [
    "for filename in top_modules:\n",
    "    os.mkdir(\"Impl/\"+filename[:-2])\n",
    "    #print(filename[:-2])\n",
    "    os.system(\"vivado -mode batch -source Script/tcl_run.tcl -tclargs {}\".format(filename))"
   ]
  },
  {
   "cell_type": "code",
   "execution_count": 7,
   "id": "93097e73-e4d5-4609-af94-7236da5e901f",
   "metadata": {},
   "outputs": [
    {
     "data": {
      "text/plain": [
       "'top_CLA8'"
      ]
     },
     "execution_count": 7,
     "metadata": {},
     "output_type": "execute_result"
    }
   ],
   "source": [
    "top_modules[0][:-2]"
   ]
  },
  {
   "cell_type": "markdown",
   "id": "272abea2-b6f2-48d1-b545-125ac199bbcf",
   "metadata": {},
   "source": [
    "## Analyse Metric"
   ]
  },
  {
   "cell_type": "code",
   "execution_count": 271,
   "id": "4edacd33-3fe4-457b-a042-0b77eddd236b",
   "metadata": {},
   "outputs": [],
   "source": [
    "designs = os.listdir(\"Impl\")\n",
    "file = [\"power.txt\", \"timing.txt\",\"utilization.txt\"]\n",
    "col = [\"Signal Power(w)\",\"Logic Power(w)\" ,\"Static Power(w)\", \"DC Power(w)\", \"Total Power(w)\",\"DataPath Delay\", \"F7_Muxes\",\"LUT_as_memory\", \"LUT_as_logic\",\"Slice_LUTs\",\"LUT1\",\"LUT2\",\"LUT3\",\"LUT4\",\"LUT5\",\"LUT6\",\"LUT7\",\"LUT_as_memory\",\"LUT_as_logic2\",\"Slice_LUTs2\",\"LUTs_difference\"]"
   ]
  },
  {
   "cell_type": "code",
   "execution_count": 272,
   "id": "6b17ba58-77ae-4327-9c92-b3bd8999edf0",
   "metadata": {},
   "outputs": [],
   "source": [
    "#col"
   ]
  },
  {
   "cell_type": "code",
   "execution_count": 297,
   "id": "a09844b8-115b-4735-8634-d0fca7070e88",
   "metadata": {},
   "outputs": [],
   "source": [
    "# tonpdes = []\n",
    "Sig_Pow_des = []\n",
    "Logic_Power_des=[]\n",
    "Static_Power_des=[]\n",
    "DC_Power_des=[]\n",
    "Total_Power_des=[]\n",
    "dpddes = []\n",
    "F7_Muxes_des=[]\n",
    "LUT_as_memory_des=[]\n",
    "LUT_as_memory_des2=LUT_as_memory_des\n",
    "LUT_as_logic_des=[]\n",
    "sldes = []\n",
    "LUT1_des=[]\n",
    "LUT2_des=[]\n",
    "LUT3_des=[]\n",
    "LUT4_des=[]\n",
    "LUT5_des=[]\n",
    "LUT6_des=[]\n",
    "LUT7_des=[]\n",
    "LS_des=[]\n",
    "Slice_LUTs2_des=LS_des\n",
    "LUTs_difference_des=[]\n",
    "for des in designs:\n",
    "    LS=0\n",
    "    for fl in file:\n",
    "        with open(\"Impl/{}/{}\".format(des,fl)) as f:\n",
    "            lines = f.read()\n",
    "            \n",
    "        sp = lines.split(\"\\n\")\n",
    "        \n",
    "        for l in sp:\n",
    "            if fl == \"power.txt\":\n",
    "                # if \"Total On-Chip Power\" in l:\n",
    "                #     tonp = float(l.split()[6])\n",
    "                #     tonpdes.append(tonp)\n",
    "                if \"Signals\" in l:\n",
    "                    Sig_Pow = float(l.split()[3])\n",
    "                    Sig_Pow_des.append(Sig_Pow)\n",
    "                if \"Slice Logic\" in l:\n",
    "                    Logic_Power = float(l.split()[4])\n",
    "                    Logic_Power_des.append(Logic_Power)\n",
    "                if \"Static Power\" in l:\n",
    "                    Static_Power = float(l.split()[4])\n",
    "                    Static_Power_des.append(Static_Power)\n",
    "                if \"Total On-Chip Power\" in l:\n",
    "                    Total_Power = float(l.split()[6])\n",
    "                    Total_Power_des.append(Total_Power)\n",
    "                    DC_Power = Total_Power-Static_Power\n",
    "                    DC_Power_des.append(DC_Power)\n",
    "                \n",
    "                    \n",
    "            if fl == \"timing.txt\":\n",
    "                if \"Data Path Delay\" in l:\n",
    "                    dpd = l.split()[3]\n",
    "                    dpddes.append(dpd)\n",
    "            \n",
    "            if fl == \"utilization.txt\":  \n",
    "                if \"F7 Muxes\" in l:\n",
    "                    FM = int(l.split()[4])\n",
    "                    F7_Muxes_des.append(FM)\n",
    "                    \n",
    "                \n",
    "                if \"| LUT as Memory\" in l:\n",
    "                    LUT_Mem = int(l.split()[5])\n",
    "                    LUT_as_memory_des.append(LUT_Mem)\n",
    "               \n",
    "                \n",
    "                if \"| LUT as Logic \" in l:\n",
    "                    LUT_Logic = int(l.split()[5])\n",
    "                    LUT_as_logic_des.append(LUT_Logic) \n",
    "                \n",
    "                if \"Slice LUTs\" in l:\n",
    "                    sl = int(l.split()[4])\n",
    "                    sldes.append(sl)   \n",
    "                \n",
    "                if \"LUT1\" in l:\n",
    "                    lut1 = int(l.split()[5])\n",
    "                    LUT1_des.append(lut1)\n",
    "                    LS=LS+lut1\n",
    "                    \n",
    "                if \"| LUT2\" in l:\n",
    "                    lut2 = int(l.split()[3])\n",
    "                    LUT2_des.append(lut2)\n",
    "                    LS=LS+lut2\n",
    "                \n",
    "                if \"| LUT3\" in l:\n",
    "                    lut3 = int(l.split()[3])\n",
    "                    LUT3_des.append(lut3)\n",
    "                    LS=LS+lut3\n",
    "                \n",
    "                if \"| LUT4\" in l:\n",
    "                    lut4 = int(l.split()[3])\n",
    "                    LUT4_des.append(lut4)\n",
    "                    LS=LS+lut4\n",
    "                    \n",
    "                if \"| LUT5\" in l:\n",
    "                    lut5 = int(l.split()[3])\n",
    "                    LUT5_des.append(lut5)\n",
    "                    LS=LS+lut5\n",
    "                \n",
    "                if \"| LUT6\" in l:\n",
    "                    lut6 = int(l.split()[3])\n",
    "                    LUT6_des.append(lut6)\n",
    "                    LS=LS+lut6\n",
    "                \n",
    "                if \"| LUT7\" in l:\n",
    "                    lut2 = int(l.split()[3])\n",
    "                    LUT7_des.append(lut7)\n",
    "                    LS=LS+lut7\n",
    "                    \n",
    "    diff=LS-sl\n",
    "    LS_des.append(LS)\n",
    "    LUTs_difference_des.append(diff)\n",
    "    \n",
    "               \n",
    "            "
   ]
  },
  {
   "cell_type": "code",
   "execution_count": 298,
   "id": "17e203bd-4d97-4026-b0a6-7fc11a118dd5",
   "metadata": {},
   "outputs": [
    {
     "name": "stdout",
     "output_type": "stream",
     "text": [
      "[15, 45, 286, 123]\n"
     ]
    }
   ],
   "source": [
    "print(LS_des)"
   ]
  },
  {
   "cell_type": "code",
   "execution_count": 299,
   "id": "87ec93e8-7aa6-4fd2-9544-160473487f27",
   "metadata": {},
   "outputs": [
    {
     "data": {
      "text/html": [
       "<div>\n",
       "<style scoped>\n",
       "    .dataframe tbody tr th:only-of-type {\n",
       "        vertical-align: middle;\n",
       "    }\n",
       "\n",
       "    .dataframe tbody tr th {\n",
       "        vertical-align: top;\n",
       "    }\n",
       "\n",
       "    .dataframe thead th {\n",
       "        text-align: right;\n",
       "    }\n",
       "</style>\n",
       "<table border=\"1\" class=\"dataframe\">\n",
       "  <thead>\n",
       "    <tr style=\"text-align: right;\">\n",
       "      <th></th>\n",
       "      <th>File Name</th>\n",
       "      <th>Signal Power(w)</th>\n",
       "      <th>Logic Power(w)</th>\n",
       "      <th>Static Power(w)</th>\n",
       "      <th>DC Power(w)</th>\n",
       "      <th>Total Power(w)</th>\n",
       "      <th>DataPath Delay</th>\n",
       "      <th>F7_Muxes</th>\n",
       "      <th>LUT_as_memory</th>\n",
       "      <th>LUT_as_logic</th>\n",
       "      <th>...</th>\n",
       "      <th>LUT2</th>\n",
       "      <th>LUT3</th>\n",
       "      <th>LUT4</th>\n",
       "      <th>LUT5</th>\n",
       "      <th>LUT6</th>\n",
       "      <th>LUT7</th>\n",
       "      <th>LUT_as_memory</th>\n",
       "      <th>LUT_as_logic2</th>\n",
       "      <th>Slice_LUTs2</th>\n",
       "      <th>LUTs_difference</th>\n",
       "    </tr>\n",
       "  </thead>\n",
       "  <tbody>\n",
       "    <tr>\n",
       "      <th>0</th>\n",
       "      <td>top_CLA8</td>\n",
       "      <td>0.17</td>\n",
       "      <td>0.066</td>\n",
       "      <td>0.191</td>\n",
       "      <td>4.488</td>\n",
       "      <td>5.002</td>\n",
       "      <td>6.927ns</td>\n",
       "      <td>0</td>\n",
       "      <td>0</td>\n",
       "      <td>13</td>\n",
       "      <td>...</td>\n",
       "      <td>1</td>\n",
       "      <td>2</td>\n",
       "      <td>3</td>\n",
       "      <td>3</td>\n",
       "      <td>6</td>\n",
       "      <td>0</td>\n",
       "      <td>0</td>\n",
       "      <td>15</td>\n",
       "      <td>15</td>\n",
       "      <td>2</td>\n",
       "    </tr>\n",
       "    <tr>\n",
       "      <th>1</th>\n",
       "      <td>top_CLA16</td>\n",
       "      <td>0.496</td>\n",
       "      <td>0.192</td>\n",
       "      <td>0.256</td>\n",
       "      <td>10.95</td>\n",
       "      <td>11.141</td>\n",
       "      <td>8.335ns</td>\n",
       "      <td>0</td>\n",
       "      <td>0</td>\n",
       "      <td>35</td>\n",
       "      <td>...</td>\n",
       "      <td>6</td>\n",
       "      <td>4</td>\n",
       "      <td>8</td>\n",
       "      <td>5</td>\n",
       "      <td>22</td>\n",
       "      <td>0</td>\n",
       "      <td>0</td>\n",
       "      <td>45</td>\n",
       "      <td>45</td>\n",
       "      <td>10</td>\n",
       "    </tr>\n",
       "    <tr>\n",
       "      <th>2</th>\n",
       "      <td>top_CLA64</td>\n",
       "      <td>4.872</td>\n",
       "      <td>1.148</td>\n",
       "      <td>2.405</td>\n",
       "      <td>48.996</td>\n",
       "      <td>49.252</td>\n",
       "      <td>16.020ns</td>\n",
       "      <td>0</td>\n",
       "      <td>0</td>\n",
       "      <td>233</td>\n",
       "      <td>...</td>\n",
       "      <td>48</td>\n",
       "      <td>14</td>\n",
       "      <td>25</td>\n",
       "      <td>44</td>\n",
       "      <td>155</td>\n",
       "      <td>0</td>\n",
       "      <td>0</td>\n",
       "      <td>286</td>\n",
       "      <td>286</td>\n",
       "      <td>53</td>\n",
       "    </tr>\n",
       "    <tr>\n",
       "      <th>3</th>\n",
       "      <td>top_CLA32</td>\n",
       "      <td>1.724</td>\n",
       "      <td>0.507</td>\n",
       "      <td>0.514</td>\n",
       "      <td>20.814</td>\n",
       "      <td>23.219</td>\n",
       "      <td>11.285ns</td>\n",
       "      <td>0</td>\n",
       "      <td>0</td>\n",
       "      <td>97</td>\n",
       "      <td>...</td>\n",
       "      <td>26</td>\n",
       "      <td>9</td>\n",
       "      <td>14</td>\n",
       "      <td>15</td>\n",
       "      <td>59</td>\n",
       "      <td>0</td>\n",
       "      <td>0</td>\n",
       "      <td>123</td>\n",
       "      <td>123</td>\n",
       "      <td>26</td>\n",
       "    </tr>\n",
       "  </tbody>\n",
       "</table>\n",
       "<p>4 rows × 22 columns</p>\n",
       "</div>"
      ],
      "text/plain": [
       "   File Name Signal Power(w) Logic Power(w) Static Power(w) DC Power(w)  \\\n",
       "0   top_CLA8            0.17          0.066           0.191       4.488   \n",
       "1  top_CLA16           0.496          0.192           0.256       10.95   \n",
       "2  top_CLA64           4.872          1.148           2.405      48.996   \n",
       "3  top_CLA32           1.724          0.507           0.514      20.814   \n",
       "\n",
       "  Total Power(w) DataPath Delay F7_Muxes LUT_as_memory LUT_as_logic  ... LUT2  \\\n",
       "0          5.002        6.927ns        0             0           13  ...    1   \n",
       "1         11.141        8.335ns        0             0           35  ...    6   \n",
       "2         49.252       16.020ns        0             0          233  ...   48   \n",
       "3         23.219       11.285ns        0             0           97  ...   26   \n",
       "\n",
       "  LUT3 LUT4 LUT5 LUT6 LUT7 LUT_as_memory LUT_as_logic2 Slice_LUTs2  \\\n",
       "0    2    3    3    6    0             0            15          15   \n",
       "1    4    8    5   22    0             0            45          45   \n",
       "2   14   25   44  155    0             0           286         286   \n",
       "3    9   14   15   59    0             0           123         123   \n",
       "\n",
       "  LUTs_difference  \n",
       "0               2  \n",
       "1              10  \n",
       "2              53  \n",
       "3              26  \n",
       "\n",
       "[4 rows x 22 columns]"
      ]
     },
     "execution_count": 299,
     "metadata": {},
     "output_type": "execute_result"
    }
   ],
   "source": [
    "result = [Sig_Pow_des, Logic_Power_des, Static_Power_des, DC_Power_des, Total_Power_des,dpddes, F7_Muxes_des, LUT_as_memory_des, LUT_as_logic_des,sldes,LUT1_des,LUT2_des,LUT3_des,LUT4_des,LUT5_des,LUT6_des,LUT7_des,LUT_as_memory_des2,LS_des,Slice_LUTs2_des,LUTs_difference_des]\n",
    "df = pd.DataFrame(result)\n",
    "df=df.fillna(0)\n",
    "df_t = df.T\n",
    "df_t.columns = col \n",
    "df_t.insert(loc=0, column='File Name', value=designs)\n",
    "df.columns = designs\n",
    "df.insert(loc=0, column='Metric', value=col)\n",
    "df.to_csv(\"Result/Result1.csv\",index=None)\n",
    "df_t.to_csv(\"Result/Result2.csv\",index=None)\n",
    "df_t"
   ]
  },
  {
   "cell_type": "code",
   "execution_count": null,
   "id": "75aa92e3-3d71-4381-889e-ecc8ff637107",
   "metadata": {},
   "outputs": [],
   "source": []
  },
  {
   "cell_type": "code",
   "execution_count": 276,
   "id": "be860499-bde3-435a-b36f-6b97a8199ef3",
   "metadata": {},
   "outputs": [
    {
     "name": "stdout",
     "output_type": "stream",
     "text": [
      "6.927ns\n",
      "8.335ns\n",
      "16.020ns\n",
      "11.285ns\n"
     ]
    }
   ],
   "source": [
    " for des in designs:\n",
    "    for fl in file:\n",
    "        with open(\"Impl/{}/{}\".format(des,fl)) as f:\n",
    "            lines = f.read()\n",
    "            \n",
    "        sp = lines.split(\"\\n\")\n",
    "        \n",
    "        for l in sp: \n",
    "            if \"Data Path Delay\" in l:\n",
    "                    dpd = l.split()[3]\n",
    "                    dpddes.append(dpd)\n",
    "                   # print(l)\n",
    "                    print(dpd)\n",
    "#             if \"Slice LUTs\" in l:\n",
    "#                    # LUT_Mem = int(l.split()[4])\n",
    "#                    # LUT_as_memory_des.append(LUT_MEM)\n",
    "#                     print(l)\n",
    "#                     print(l.split()[4])\n",
    "#                    # sl = int(l.split()[-4])\n",
    "#                    # sldes.append(sl) \n",
    "#                    # Sig_Pow = float(l.split()[3])\n",
    "#                    # Sig_Pow_des.append(Sig_Pow)"
   ]
  },
  {
   "cell_type": "code",
   "execution_count": null,
   "id": "592a5996-d359-42aa-a7d7-782c2abd6d97",
   "metadata": {},
   "outputs": [],
   "source": []
  },
  {
   "cell_type": "code",
   "execution_count": null,
   "id": "3677539a-6bb0-4fb1-8471-69b0b3cd36b0",
   "metadata": {},
   "outputs": [],
   "source": []
  }
 ],
 "metadata": {
  "kernelspec": {
   "display_name": "Python 3",
   "language": "python",
   "name": "python3"
  },
  "language_info": {
   "codemirror_mode": {
    "name": "ipython",
    "version": 3
   },
   "file_extension": ".py",
   "mimetype": "text/x-python",
   "name": "python",
   "nbconvert_exporter": "python",
   "pygments_lexer": "ipython3",
   "version": "3.6.8"
  }
 },
 "nbformat": 4,
 "nbformat_minor": 5
}
